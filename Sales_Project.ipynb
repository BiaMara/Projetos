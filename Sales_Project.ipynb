{
 "cells": [
  {
   "cell_type": "markdown",
   "metadata": {},
   "source": [
    "# Objetivo: \n",
    "O objetivo é construir um modelo preditivo para saber as vendas de um determinado produto numa loja específica.\n",
    "\n",
    "# Hipóteses:\n",
    "- Hipóteses sobre as lojas\n",
    "-- Lojas urbanas tendem a ter vendas mais altas devido a maior renda das pessoas;\n",
    "-- Densidade: lojas em áreas com mais densidade populacional tendem a vender mais devido a maior demanda;\n",
    "-- Capacidade da loja: quanto maior a loja, mais capacidade de produtos e maiores as vendas, já que as pessoas podem comprar tudo de um mesmo lugar;\n",
    "-- Competidores: quanto mais competidores, menores serão as vendas;\n",
    "-- Marketing: se há departamento de marketing, a loja tende a atrair mais clientes e então, vender mais;\n",
    "-- Localização: lojas localizadas em áreas populares tendem a ter mais clientes e com isso, mais vendas;\n",
    "-- Comportamento dos clientes: se a loja consegue dispor de produtos que irão satisfazer seus clientes, mais chances de venda;\n",
    "-- Ambiente: lojas com bem mantidas e administradas tendem a ter mais vendas.\n",
    "\n",
    "\n",
    "- Hipóteses sobre os produtos\n",
    "-- Marca: produtos de marca tendem a ter mais vendas devido a confiança dos consumidores;\n",
    "-- Embalagem: boas embalagens podem atrais clientes e vender mais;\n",
    "-- Utilidade: produtos diários tendem a vender mais que os de uso específico;\n",
    "-- Área de exposição: quanto maior o espaço dado a um determinado produtos, mais atenção ele recebe e pode gerar mais vendas;\n",
    "-- Visibilidade: qaunto mais visível o produto, maior tendencia a vender mais, produtos na frente da loja chamam mais atenção que no fundo;\n",
    "-- Anúncios: quanto mais anúncio de um produto na loja mais chances de vender;\n",
    "-- Promoções: produtos com ofertas e descontos vendem mais.\n",
    "\n",
    "\n",
    "# Variáveis\n",
    "\n",
    "- Item_Identifier: ID do produto\n",
    "- Item_Weight: Peso do produto. Não considerada nas hipóteses.\n",
    "- Item_Fat_Content: Se o produto tem gordura ou não. Ligada à hipótese de utilidade dos produtos.\n",
    "- Item_Visibility: % da área de exposiação de um produto. Ligada à área de exposição.\n",
    "- Item_Type: Categoria do produto. Também ligada à hipótese de utilidade dos produtos.\n",
    "- Item_MRP: Lista de preço do produto. Não considerada nas hipóteses.\n",
    "- Outlet_Identifier: ID da loja\n",
    "- Outlet_Establishment_Year: Ano de inauguração da loja. Não considerada nas hipóteses.\n",
    "- Outlet_Size: Tamanho da loja. Hipótese de capacidade da loja.\n",
    "- Outlet_Location_Type: Tipo de cidade que a loja está localizada. Hipótese de localização e área da loja.\n",
    "- Outlet_Type: Tipo da loja, se é mercearia ou mercado. Também ligada á hipótese de capacidade da loja.\n",
    "- Item_Outlet_Sales: Vendas de um produto numa loja, variável a ser predita.\n",
    "\n",
    "\n",
    "# Hipóteses e Variáveis\n",
    "- Das 15 hipóteses, 9 não tem variável. \n",
    "- Das 12 variáveis, 3 não foram levantadas hipóteses.\n",
    "- Teremos então 6 hipóteses que serão tratadas através das variáveis.\n",
    "\n"
   ]
  },
  {
   "cell_type": "code",
   "execution_count": 408,
   "metadata": {},
   "outputs": [],
   "source": [
    "# Importando bibliotecas e banco de dados\n",
    "\n",
    "import pandas as pd\n",
    "import numpy as np\n",
    "\n",
    "\n",
    "treino = pd.read_csv(\"treino.csv\")\n",
    "teste = pd.read_csv(\"teste.csv\")"
   ]
  },
  {
   "cell_type": "code",
   "execution_count": 409,
   "metadata": {},
   "outputs": [
    {
     "name": "stdout",
     "output_type": "stream",
     "text": [
      "(8523, 13) (5681, 12) (14204, 13)\n"
     ]
    }
   ],
   "source": [
    "# Juntando o banco de dados\n",
    "\n",
    "treino['source']='treino'\n",
    "teste['source']='teste'\n",
    "data = pd.concat([treino, teste],ignore_index=True)\n",
    "print (treino.shape, teste.shape, data.shape)"
   ]
  },
  {
   "cell_type": "code",
   "execution_count": 410,
   "metadata": {},
   "outputs": [
    {
     "data": {
      "text/html": [
       "<div>\n",
       "<style scoped>\n",
       "    .dataframe tbody tr th:only-of-type {\n",
       "        vertical-align: middle;\n",
       "    }\n",
       "\n",
       "    .dataframe tbody tr th {\n",
       "        vertical-align: top;\n",
       "    }\n",
       "\n",
       "    .dataframe thead th {\n",
       "        text-align: right;\n",
       "    }\n",
       "</style>\n",
       "<table border=\"1\" class=\"dataframe\">\n",
       "  <thead>\n",
       "    <tr style=\"text-align: right;\">\n",
       "      <th></th>\n",
       "      <th>Item_Weight</th>\n",
       "      <th>Item_Visibility</th>\n",
       "      <th>Item_MRP</th>\n",
       "      <th>Outlet_Establishment_Year</th>\n",
       "      <th>Item_Outlet_Sales</th>\n",
       "    </tr>\n",
       "  </thead>\n",
       "  <tbody>\n",
       "    <tr>\n",
       "      <th>count</th>\n",
       "      <td>11765.000000</td>\n",
       "      <td>14204.000000</td>\n",
       "      <td>14204.000000</td>\n",
       "      <td>14204.000000</td>\n",
       "      <td>8523.000000</td>\n",
       "    </tr>\n",
       "    <tr>\n",
       "      <th>mean</th>\n",
       "      <td>12.792854</td>\n",
       "      <td>0.065953</td>\n",
       "      <td>141.004977</td>\n",
       "      <td>1997.830681</td>\n",
       "      <td>2181.288914</td>\n",
       "    </tr>\n",
       "    <tr>\n",
       "      <th>std</th>\n",
       "      <td>4.652502</td>\n",
       "      <td>0.051459</td>\n",
       "      <td>62.086938</td>\n",
       "      <td>8.371664</td>\n",
       "      <td>1706.499616</td>\n",
       "    </tr>\n",
       "    <tr>\n",
       "      <th>min</th>\n",
       "      <td>4.555000</td>\n",
       "      <td>0.000000</td>\n",
       "      <td>31.290000</td>\n",
       "      <td>1985.000000</td>\n",
       "      <td>33.290000</td>\n",
       "    </tr>\n",
       "    <tr>\n",
       "      <th>25%</th>\n",
       "      <td>8.710000</td>\n",
       "      <td>0.027036</td>\n",
       "      <td>94.012000</td>\n",
       "      <td>1987.000000</td>\n",
       "      <td>834.247400</td>\n",
       "    </tr>\n",
       "    <tr>\n",
       "      <th>50%</th>\n",
       "      <td>12.600000</td>\n",
       "      <td>0.054021</td>\n",
       "      <td>142.247000</td>\n",
       "      <td>1999.000000</td>\n",
       "      <td>1794.331000</td>\n",
       "    </tr>\n",
       "    <tr>\n",
       "      <th>75%</th>\n",
       "      <td>16.750000</td>\n",
       "      <td>0.094037</td>\n",
       "      <td>185.855600</td>\n",
       "      <td>2004.000000</td>\n",
       "      <td>3101.296400</td>\n",
       "    </tr>\n",
       "    <tr>\n",
       "      <th>max</th>\n",
       "      <td>21.350000</td>\n",
       "      <td>0.328391</td>\n",
       "      <td>266.888400</td>\n",
       "      <td>2009.000000</td>\n",
       "      <td>13086.964800</td>\n",
       "    </tr>\n",
       "  </tbody>\n",
       "</table>\n",
       "</div>"
      ],
      "text/plain": [
       "        Item_Weight  Item_Visibility      Item_MRP  Outlet_Establishment_Year  \\\n",
       "count  11765.000000     14204.000000  14204.000000               14204.000000   \n",
       "mean      12.792854         0.065953    141.004977                1997.830681   \n",
       "std        4.652502         0.051459     62.086938                   8.371664   \n",
       "min        4.555000         0.000000     31.290000                1985.000000   \n",
       "25%        8.710000         0.027036     94.012000                1987.000000   \n",
       "50%       12.600000         0.054021    142.247000                1999.000000   \n",
       "75%       16.750000         0.094037    185.855600                2004.000000   \n",
       "max       21.350000         0.328391    266.888400                2009.000000   \n",
       "\n",
       "       Item_Outlet_Sales  \n",
       "count        8523.000000  \n",
       "mean         2181.288914  \n",
       "std          1706.499616  \n",
       "min            33.290000  \n",
       "25%           834.247400  \n",
       "50%          1794.331000  \n",
       "75%          3101.296400  \n",
       "max         13086.964800  "
      ]
     },
     "execution_count": 410,
     "metadata": {},
     "output_type": "execute_result"
    }
   ],
   "source": [
    "data.describe()"
   ]
  },
  {
   "cell_type": "markdown",
   "metadata": {},
   "source": [
    "Outlet_Establishment_Years de 1985 a 2009. Se mudarmos para a idade da loja, a variável pode ser melhor interpretada e melhor usada nas previsões."
   ]
  },
  {
   "cell_type": "code",
   "execution_count": 411,
   "metadata": {},
   "outputs": [
    {
     "data": {
      "text/plain": [
       "Item_Identifier               1559\n",
       "Item_Weight                    416\n",
       "Item_Fat_Content                 5\n",
       "Item_Visibility              13006\n",
       "Item_Type                       16\n",
       "Item_MRP                      8052\n",
       "Outlet_Identifier               10\n",
       "Outlet_Establishment_Year        9\n",
       "Outlet_Size                      4\n",
       "Outlet_Location_Type             3\n",
       "Outlet_Type                      4\n",
       "Item_Outlet_Sales             3494\n",
       "source                           2\n",
       "dtype: int64"
      ]
     },
     "execution_count": 411,
     "metadata": {},
     "output_type": "execute_result"
    }
   ],
   "source": [
    "data.apply(lambda x: len(x.unique()))"
   ]
  },
  {
   "cell_type": "markdown",
   "metadata": {},
   "source": [
    "- Aqui podemos ver que há 1559 produtos e 10 lojas. \n",
    "- Temos 16 valores únicos para Item_Type, precisamos olhar então que categorias são essas."
   ]
  },
  {
   "cell_type": "code",
   "execution_count": 412,
   "metadata": {},
   "outputs": [
    {
     "name": "stdout",
     "output_type": "stream",
     "text": [
      "\n",
      "Frequência de categorias por variável: Item_Fat_Content\n",
      "Low Fat    8485\n",
      "Regular    4824\n",
      "LF          522\n",
      "reg         195\n",
      "low fat     178\n",
      "Name: Item_Fat_Content, dtype: int64\n",
      "\n",
      "Frequência de categorias por variável: Item_Type\n",
      "Fruits and Vegetables    2013\n",
      "Snack Foods              1989\n",
      "Household                1548\n",
      "Frozen Foods             1426\n",
      "Dairy                    1136\n",
      "Baking Goods             1086\n",
      "Canned                   1084\n",
      "Health and Hygiene        858\n",
      "Meat                      736\n",
      "Soft Drinks               726\n",
      "Breads                    416\n",
      "Hard Drinks               362\n",
      "Others                    280\n",
      "Starchy Foods             269\n",
      "Breakfast                 186\n",
      "Seafood                    89\n",
      "Name: Item_Type, dtype: int64\n",
      "\n",
      "Frequência de categorias por variável: Outlet_Size\n",
      "Medium    4655\n",
      "Small     3980\n",
      "High      1553\n",
      "Name: Outlet_Size, dtype: int64\n",
      "\n",
      "Frequência de categorias por variável: Outlet_Location_Type\n",
      "Tier 3    5583\n",
      "Tier 2    4641\n",
      "Tier 1    3980\n",
      "Name: Outlet_Location_Type, dtype: int64\n",
      "\n",
      "Frequência de categorias por variável: Outlet_Type\n",
      "Supermarket Type1    9294\n",
      "Grocery Store        1805\n",
      "Supermarket Type3    1559\n",
      "Supermarket Type2    1546\n",
      "Name: Outlet_Type, dtype: int64\n"
     ]
    }
   ],
   "source": [
    "# Filtrando as variáveis categóricas\n",
    "coluna_categorias = [x for x in data.dtypes.index if data.dtypes[x]=='object']\n",
    "\n",
    "#Excludindo colunas de ID e source:\n",
    "coluna_categorias = [x for x in coluna_categorias if x not in ['Item_Identifier','Outlet_Identifier','source']]\n",
    "\n",
    "#Frequencia das categorias\n",
    "for col in coluna_categorias:\n",
    "    print ('\\nFrequência de categorias por variável: %s' %col)\n",
    "    print (data[col].value_counts())"
   ]
  },
  {
   "cell_type": "markdown",
   "metadata": {},
   "source": [
    "Obversações:\n",
    "- Item_Fat_Content: Escritas diferentes para Low Fat que está como 'low fat' e 'LF'. Assim como 'Regular' e 'reg'.\n",
    "- Outlet_Type: Supermarket Type2 e Type3 talvez possam ser combinados."
   ]
  },
  {
   "cell_type": "code",
   "execution_count": 413,
   "metadata": {},
   "outputs": [],
   "source": [
    "#Juntando Low Fat e LF em low fat\n",
    "\n",
    "tdf=data.Item_Fat_Content.isin(['LF','Low Fat'])\n",
    "tdf=tdf[tdf==True]\n",
    "for i in tdf.index:\n",
    "    data.at[i,'Item_Fat_Content']='low fat'"
   ]
  },
  {
   "cell_type": "code",
   "execution_count": 414,
   "metadata": {},
   "outputs": [],
   "source": [
    "#Juntando reg com Regular\n",
    "\n",
    "tdf=data.Item_Fat_Content.isin(['reg'])\n",
    "tdf=tdf[tdf==True]\n",
    "for i in tdf.index:\n",
    "    data.at[i,'Item_Fat_Content']='Regular'"
   ]
  },
  {
   "cell_type": "code",
   "execution_count": 415,
   "metadata": {},
   "outputs": [
    {
     "name": "stdout",
     "output_type": "stream",
     "text": [
      "low fat    9185\n",
      "Regular    5019\n",
      "Name: Item_Fat_Content, dtype: int64\n"
     ]
    }
   ],
   "source": [
    "print (data['Item_Fat_Content'].value_counts())"
   ]
  },
  {
   "cell_type": "code",
   "execution_count": 416,
   "metadata": {},
   "outputs": [
    {
     "name": "stdout",
     "output_type": "stream",
     "text": [
      "Outlet_Type        Outlet_Size\n",
      "Grocery Store      Small           880\n",
      "Supermarket Type1  Small          3100\n",
      "                   High           1553\n",
      "                   Medium         1550\n",
      "Supermarket Type2  Medium         1546\n",
      "Supermarket Type3  Medium         1559\n",
      "Name: Outlet_Size, dtype: int64\n"
     ]
    },
    {
     "data": {
      "text/plain": [
       "Item_Identifier                 0\n",
       "Item_Weight                  2439\n",
       "Item_Fat_Content                0\n",
       "Item_Visibility                 0\n",
       "Item_Type                       0\n",
       "Item_MRP                        0\n",
       "Outlet_Identifier               0\n",
       "Outlet_Establishment_Year       0\n",
       "Outlet_Size                  4016\n",
       "Outlet_Location_Type            0\n",
       "Outlet_Type                     0\n",
       "Item_Outlet_Sales            5681\n",
       "source                          0\n",
       "dtype: int64"
      ]
     },
     "execution_count": 416,
     "metadata": {},
     "output_type": "execute_result"
    }
   ],
   "source": [
    "# Buscando valores vazios\n",
    "print(data.groupby('Outlet_Type')['Outlet_Size'].value_counts())\n",
    "data.apply(lambda x: sum(x.isnull()))"
   ]
  },
  {
   "cell_type": "markdown",
   "metadata": {},
   "source": [
    "Os valores faltantes em Outlet_Sales está ok, pois estão faltando na base de teste, e é o que pretendemos prever.\n",
    "Já Item_Weight e Outlet_Size precisam ser tratados."
   ]
  },
  {
   "cell_type": "code",
   "execution_count": 417,
   "metadata": {},
   "outputs": [
    {
     "name": "stdout",
     "output_type": "stream",
     "text": [
      "Valores Vazios Inicio: 2439\n",
      "Valores Vazios FInal: 0\n"
     ]
    }
   ],
   "source": [
    "#Tratando valores vazios de Item_Weight e substituindo pela média\n",
    "\n",
    "#Média por item\n",
    "media_peso = data.pivot_table(values='Item_Weight', index='Item_Identifier')\n",
    "\n",
    "#Achando os vazios da categoria\n",
    "vazios_peso = data['Item_Weight'].isnull() \n",
    "\n",
    "#Substituindo valores vazios e verificando se restou algo\n",
    "print ('Valores Vazios Inicio: %d'% sum(vazios_peso))\n",
    "data.loc[vazios_peso,'Item_Weight'] = data.loc[vazios_peso,'Item_Identifier'].apply(lambda x: media_peso.at[x,'Item_Weight'])\n",
    "print ('Valores Vazios FInal: %d'% sum(data['Item_Weight'].isnull()))\n"
   ]
  },
  {
   "cell_type": "code",
   "execution_count": 418,
   "metadata": {},
   "outputs": [
    {
     "name": "stdout",
     "output_type": "stream",
     "text": [
      "Outlet_Type        Outlet_Size\n",
      "Grocery Store      Small           880\n",
      "Supermarket Type1  Small          3100\n",
      "                   High           1553\n",
      "                   Medium         1550\n",
      "Supermarket Type2  Medium         1546\n",
      "Supermarket Type3  Medium         1559\n",
      "Name: Outlet_Size, dtype: int64\n"
     ]
    },
    {
     "data": {
      "text/plain": [
       "Item_Identifier                 0\n",
       "Item_Weight                     0\n",
       "Item_Fat_Content                0\n",
       "Item_Visibility                 0\n",
       "Item_Type                       0\n",
       "Item_MRP                        0\n",
       "Outlet_Identifier               0\n",
       "Outlet_Establishment_Year       0\n",
       "Outlet_Size                  4016\n",
       "Outlet_Location_Type            0\n",
       "Outlet_Type                     0\n",
       "Item_Outlet_Sales            5681\n",
       "source                          0\n",
       "dtype: int64"
      ]
     },
     "execution_count": 418,
     "metadata": {},
     "output_type": "execute_result"
    }
   ],
   "source": [
    "# Buscando valores vazios em Outlet_Size\n",
    "print(data.groupby('Outlet_Type')['Outlet_Size'].value_counts())\n",
    "data.apply(lambda x: sum(x.isnull()))"
   ]
  },
  {
   "cell_type": "code",
   "execution_count": 419,
   "metadata": {},
   "outputs": [
    {
     "name": "stdout",
     "output_type": "stream",
     "text": [
      "Outlet_Type Grocery Store Supermarket Type1 Supermarket Type2  \\\n",
      "Outlet_Size         Small             Small            Medium   \n",
      "\n",
      "Outlet_Type Supermarket Type3  \n",
      "Outlet_Size            Medium  \n"
     ]
    }
   ],
   "source": [
    "#Import mode function:\n",
    "from scipy.stats import mode\n",
    "\n",
    "#Determing the mode for each\n",
    "outlet_size_mode = data.pivot_table(values='Outlet_Size', columns='Outlet_Type',aggfunc=(lambda x:mode(x).mode[0]) )\n",
    "print (outlet_size_mode)"
   ]
  },
  {
   "cell_type": "code",
   "execution_count": 420,
   "metadata": {},
   "outputs": [],
   "source": [
    "#Substituindo Outlet_Size pela moda\n",
    "\n",
    "df=data[data.Outlet_Size.isnull()]\n",
    "for k in list(df.index):\n",
    "    if data.at[k,'Outlet_Type'] in ['Grocery Store','Supermarket Type1']:\n",
    "        data.at[k,'Outlet_Size']='Small'\n",
    "    else:\n",
    "        data.at[k,'Outlet_Size']='Medium'"
   ]
  },
  {
   "cell_type": "code",
   "execution_count": 421,
   "metadata": {},
   "outputs": [
    {
     "name": "stdout",
     "output_type": "stream",
     "text": [
      "Outlet_Type        Outlet_Size\n",
      "Grocery Store      Small          1805\n",
      "Supermarket Type1  Small          6191\n",
      "                   High           1553\n",
      "                   Medium         1550\n",
      "Supermarket Type2  Medium         1546\n",
      "Supermarket Type3  Medium         1559\n",
      "Name: Outlet_Size, dtype: int64\n"
     ]
    },
    {
     "data": {
      "text/plain": [
       "Item_Identifier                 0\n",
       "Item_Weight                     0\n",
       "Item_Fat_Content                0\n",
       "Item_Visibility                 0\n",
       "Item_Type                       0\n",
       "Item_MRP                        0\n",
       "Outlet_Identifier               0\n",
       "Outlet_Establishment_Year       0\n",
       "Outlet_Size                     0\n",
       "Outlet_Location_Type            0\n",
       "Outlet_Type                     0\n",
       "Item_Outlet_Sales            5681\n",
       "source                          0\n",
       "dtype: int64"
      ]
     },
     "execution_count": 421,
     "metadata": {},
     "output_type": "execute_result"
    }
   ],
   "source": [
    "print(data.groupby('Outlet_Type')['Outlet_Size'].value_counts())\n",
    "data.apply(lambda x: sum(x.isnull()))"
   ]
  },
  {
   "cell_type": "code",
   "execution_count": 422,
   "metadata": {},
   "outputs": [
    {
     "data": {
      "text/plain": [
       "count    14204.000000\n",
       "mean         0.065953\n",
       "std          0.051459\n",
       "min          0.000000\n",
       "25%          0.027036\n",
       "50%          0.054021\n",
       "75%          0.094037\n",
       "max          0.328391\n",
       "Name: Item_Visibility, dtype: float64"
      ]
     },
     "execution_count": 422,
     "metadata": {},
     "output_type": "execute_result"
    }
   ],
   "source": [
    "data['Item_Visibility'].describe()"
   ]
  },
  {
   "cell_type": "markdown",
   "metadata": {},
   "source": [
    "Item Visibility tem valores zero, o que é estranho, já que todos os itens devem estar à mostra de alguma forma.\n",
    "\n",
    "Vamos substituir os valores zero pela média."
   ]
  },
  {
   "cell_type": "code",
   "execution_count": 423,
   "metadata": {},
   "outputs": [
    {
     "data": {
      "text/plain": [
       "count    14204.000000\n",
       "mean         0.069710\n",
       "std          0.049728\n",
       "min          0.003575\n",
       "25%          0.031145\n",
       "50%          0.057194\n",
       "75%          0.096930\n",
       "max          0.328391\n",
       "Name: Item_Visibility, dtype: float64"
      ]
     },
     "execution_count": 423,
     "metadata": {},
     "output_type": "execute_result"
    }
   ],
   "source": [
    "# Substituindo os zeros pela média\n",
    "\n",
    "mean_visibility = data.pivot_table(index = \"Item_Identifier\",  values = \"Item_Visibility\")\n",
    "data.loc[(data[\"Item_Visibility\"] == 0.0), \"Item_Visibility\"] = data.loc[(data[\"Item_Visibility\"] == 0.0), \"Item_Identifier\"].apply(lambda x : mean_visibility.at[x, \"Item_Visibility\"])\n",
    "data['Item_Visibility'].describe()"
   ]
  },
  {
   "cell_type": "code",
   "execution_count": 424,
   "metadata": {},
   "outputs": [
    {
     "data": {
      "text/plain": [
       "Food              10201\n",
       "Non-Consumable     2686\n",
       "Drinks             1317\n",
       "Name: Item_Type_Combined, dtype: int64"
      ]
     },
     "execution_count": 424,
     "metadata": {},
     "output_type": "execute_result"
    }
   ],
   "source": [
    "# Temos 16 categorias de produtos, mas o item identifier mostra que há 3 categorias maiores: FD, DR e NC, que podem ser interpretados como Food, Drink e non consumable, então iremos usar essas categorias para concentrarmos mais os dados.\n",
    "\n",
    "#Renomeando as categorias\n",
    "data['Item_Type_Combined'] = data['Item_Identifier'].apply(lambda x: x[0:2])\n",
    "data['Item_Type_Combined'] = data['Item_Type_Combined'].map({'FD':'Food',\n",
    "                                                             'NC':'Non-Consumable',\n",
    "                                                             'DR':'Drinks'})\n",
    "data['Item_Type_Combined'].value_counts()"
   ]
  },
  {
   "cell_type": "code",
   "execution_count": 425,
   "metadata": {},
   "outputs": [
    {
     "data": {
      "text/plain": [
       "count    14204.000000\n",
       "mean        23.169319\n",
       "std          8.371664\n",
       "min         12.000000\n",
       "25%         17.000000\n",
       "50%         22.000000\n",
       "75%         34.000000\n",
       "max         36.000000\n",
       "Name: Outlet_Years, dtype: float64"
      ]
     },
     "execution_count": 425,
     "metadata": {},
     "output_type": "execute_result"
    }
   ],
   "source": [
    "# Criando a coluna de anos de atividade a partir da coluna de ano de criação da loja\n",
    "\n",
    "# Atualizando para 2021\n",
    "data['Outlet_Years'] = 2021 - data['Outlet_Establishment_Year']\n",
    "data['Outlet_Years'].describe()"
   ]
  },
  {
   "cell_type": "code",
   "execution_count": 426,
   "metadata": {},
   "outputs": [],
   "source": [
    "# Transformando variáveis categóricas em variáveis numéricas\n",
    "\n",
    "from sklearn.preprocessing import LabelEncoder\n",
    "le = LabelEncoder()\n",
    "\n",
    "# Criando a nova variável numérica\n",
    "data['Outlet'] = le.fit_transform(data['Outlet_Identifier'])\n",
    "categorias = ['Item_Fat_Content','Outlet_Location_Type','Outlet_Size','Item_Type_Combined','Outlet_Type','Outlet']\n",
    "le = LabelEncoder()\n",
    "for i in categorias:\n",
    "    data[i] = le.fit_transform(data[i].astype(str))"
   ]
  },
  {
   "cell_type": "code",
   "execution_count": 427,
   "metadata": {},
   "outputs": [
    {
     "data": {
      "text/plain": [
       "Item_Identifier               object\n",
       "Item_Weight                  float64\n",
       "Item_Visibility              float64\n",
       "Item_Type                     object\n",
       "Item_MRP                     float64\n",
       "Outlet_Identifier             object\n",
       "Outlet_Establishment_Year      int64\n",
       "Item_Outlet_Sales            float64\n",
       "source                        object\n",
       "Outlet_Years                   int64\n",
       "Item_Fat_Content_0             uint8\n",
       "Item_Fat_Content_1             uint8\n",
       "Outlet_Location_Type_0         uint8\n",
       "Outlet_Location_Type_1         uint8\n",
       "Outlet_Location_Type_2         uint8\n",
       "Outlet_Size_0                  uint8\n",
       "Outlet_Size_1                  uint8\n",
       "Outlet_Size_2                  uint8\n",
       "Outlet_Type_0                  uint8\n",
       "Outlet_Type_1                  uint8\n",
       "Outlet_Type_2                  uint8\n",
       "Outlet_Type_3                  uint8\n",
       "Item_Type_Combined_0           uint8\n",
       "Item_Type_Combined_1           uint8\n",
       "Item_Type_Combined_2           uint8\n",
       "Outlet_0                       uint8\n",
       "Outlet_1                       uint8\n",
       "Outlet_2                       uint8\n",
       "Outlet_3                       uint8\n",
       "Outlet_4                       uint8\n",
       "Outlet_5                       uint8\n",
       "Outlet_6                       uint8\n",
       "Outlet_7                       uint8\n",
       "Outlet_8                       uint8\n",
       "Outlet_9                       uint8\n",
       "dtype: object"
      ]
     },
     "execution_count": 427,
     "metadata": {},
     "output_type": "execute_result"
    }
   ],
   "source": [
    "data = pd.get_dummies(data, columns=['Item_Fat_Content','Outlet_Location_Type','Outlet_Size','Outlet_Type',\n",
    "                              'Item_Type_Combined','Outlet'])\n",
    "\n",
    "data.dtypes"
   ]
  },
  {
   "cell_type": "code",
   "execution_count": 428,
   "metadata": {},
   "outputs": [],
   "source": [
    "# Voltando a dividir as bases de teste e treino após as modificações\n",
    "\n",
    "#Tirando as colunas que foram convertidas, para não termos infos duplicadas\n",
    "data.drop(['Item_Type','Outlet_Establishment_Year'],axis=1,inplace=True)\n",
    "\n",
    "#Dividindo em teste e treino\n",
    "treino = data.loc[data['source']==\"treino\"]\n",
    "teste = data.loc[data['source']==\"teste\"]\n",
    "\n",
    "#Drop unnecessary columns:\n",
    "teste.drop(['Item_Outlet_Sales','source'],axis=1,inplace=True)\n",
    "treino.drop(['source'],axis=1,inplace=True)\n",
    "\n",
    "#Exportando arquivos modificados\n",
    "#treino.to_csv(\"treino_modificado.csv\",index=False)\n",
    "#teste.to_csv(\"teste_modificado.csv\",index=False)"
   ]
  },
  {
   "cell_type": "code",
   "execution_count": 429,
   "metadata": {},
   "outputs": [
    {
     "data": {
      "text/plain": [
       "Item_Identifier            object\n",
       "Item_Weight               float64\n",
       "Item_Visibility           float64\n",
       "Item_MRP                  float64\n",
       "Outlet_Identifier          object\n",
       "Item_Outlet_Sales         float64\n",
       "Outlet_Years                int64\n",
       "Item_Fat_Content_0          uint8\n",
       "Item_Fat_Content_1          uint8\n",
       "Outlet_Location_Type_0      uint8\n",
       "Outlet_Location_Type_1      uint8\n",
       "Outlet_Location_Type_2      uint8\n",
       "Outlet_Size_0               uint8\n",
       "Outlet_Size_1               uint8\n",
       "Outlet_Size_2               uint8\n",
       "Outlet_Type_0               uint8\n",
       "Outlet_Type_1               uint8\n",
       "Outlet_Type_2               uint8\n",
       "Outlet_Type_3               uint8\n",
       "Item_Type_Combined_0        uint8\n",
       "Item_Type_Combined_1        uint8\n",
       "Item_Type_Combined_2        uint8\n",
       "Outlet_0                    uint8\n",
       "Outlet_1                    uint8\n",
       "Outlet_2                    uint8\n",
       "Outlet_3                    uint8\n",
       "Outlet_4                    uint8\n",
       "Outlet_5                    uint8\n",
       "Outlet_6                    uint8\n",
       "Outlet_7                    uint8\n",
       "Outlet_8                    uint8\n",
       "Outlet_9                    uint8\n",
       "dtype: object"
      ]
     },
     "execution_count": 429,
     "metadata": {},
     "output_type": "execute_result"
    }
   ],
   "source": [
    "treino.dtypes"
   ]
  },
  {
   "cell_type": "code",
   "execution_count": 430,
   "metadata": {},
   "outputs": [
    {
     "data": {
      "text/plain": [
       "Item_Identifier            object\n",
       "Item_Weight               float64\n",
       "Item_Visibility           float64\n",
       "Item_MRP                  float64\n",
       "Outlet_Identifier          object\n",
       "Outlet_Years                int64\n",
       "Item_Fat_Content_0          uint8\n",
       "Item_Fat_Content_1          uint8\n",
       "Outlet_Location_Type_0      uint8\n",
       "Outlet_Location_Type_1      uint8\n",
       "Outlet_Location_Type_2      uint8\n",
       "Outlet_Size_0               uint8\n",
       "Outlet_Size_1               uint8\n",
       "Outlet_Size_2               uint8\n",
       "Outlet_Type_0               uint8\n",
       "Outlet_Type_1               uint8\n",
       "Outlet_Type_2               uint8\n",
       "Outlet_Type_3               uint8\n",
       "Item_Type_Combined_0        uint8\n",
       "Item_Type_Combined_1        uint8\n",
       "Item_Type_Combined_2        uint8\n",
       "Outlet_0                    uint8\n",
       "Outlet_1                    uint8\n",
       "Outlet_2                    uint8\n",
       "Outlet_3                    uint8\n",
       "Outlet_4                    uint8\n",
       "Outlet_5                    uint8\n",
       "Outlet_6                    uint8\n",
       "Outlet_7                    uint8\n",
       "Outlet_8                    uint8\n",
       "Outlet_9                    uint8\n",
       "dtype: object"
      ]
     },
     "execution_count": 430,
     "metadata": {},
     "output_type": "execute_result"
    }
   ],
   "source": [
    "teste.dtypes\n"
   ]
  },
  {
   "cell_type": "markdown",
   "metadata": {},
   "source": [
    "# Construindo o modelo"
   ]
  },
  {
   "cell_type": "code",
   "execution_count": 431,
   "metadata": {},
   "outputs": [],
   "source": [
    "target = 'Item_Outlet_Sales'\n",
    "IDcol = ['Item_Identifier','Outlet_Identifier']\n",
    "from sklearn import model_selection, metrics\n",
    "from sklearn.metrics import mean_squared_error\n",
    "from sklearn.linear_model import LinearRegression, Ridge, Lasso\n",
    "from sklearn.tree import DecisionTreeRegressor\n",
    "from sklearn.ensemble import RandomForestRegressor\n",
    "pd.options.mode.chained_assignment = None  # default='warn'\n",
    "\n",
    "def modelfit(alg, dtrain, dtest, predictors, target, IDcol, filename):\n",
    "    #Fit the algorithm on the data\n",
    "    alg.fit(dtrain[predictors], dtrain[target])\n",
    "        \n",
    "    #Predict training set:\n",
    "    dtrain_predictions = alg.predict(dtrain[predictors])\n",
    "\n",
    "    #Perform cross-validation:\n",
    "    cv_score = model_selection.cross_val_score(alg, dtrain[predictors], dtrain[target], cv=20, scoring='neg_mean_squared_error')\n",
    "    cv_score = np.sqrt(np.abs(cv_score))\n",
    "    \n",
    "    #Print model report:\n",
    "    print (\"\\nModel Report\")\n",
    "    print (\"RMSE : %.4g\" % np.sqrt(mean_squared_error(dtrain[target].values, dtrain_predictions)))\n",
    "    print (\"CV Score : Mean - %.4g | Std - %.4g | Min - %.4g | Max - %.4g\" % (np.mean(cv_score),np.std(cv_score),np.min(cv_score),np.max(cv_score)))\n",
    "    \n",
    "    #Predict on testing data:\n",
    "    dtest[target] = alg.predict(dtest[predictors])\n",
    "    \n",
    "     #Export submission file:\n",
    "    IDcol.append(target)\n",
    "    submission = pd.DataFrame({ x: dtest[x] for x in IDcol})\n",
    "    submission.to_csv(filename, index=False)"
   ]
  },
  {
   "cell_type": "code",
   "execution_count": 432,
   "metadata": {
    "scrolled": true
   },
   "outputs": [
    {
     "name": "stdout",
     "output_type": "stream",
     "text": [
      "\n",
      "Model Report\n",
      "RMSE : 1127\n",
      "CV Score : Mean - 1129 | Std - 43.19 | Min - 1075 | Max - 1210\n"
     ]
    },
    {
     "data": {
      "text/plain": [
       "<AxesSubplot:title={'center':'Model Coefficients'}>"
      ]
     },
     "execution_count": 432,
     "metadata": {},
     "output_type": "execute_result"
    },
    {
     "data": {
      "image/png": "[encoded data removed]",
      "text/plain": [
       "<Figure size 432x288 with 1 Axes>"
      ]
     },
     "metadata": {
      "needs_background": "light"
     },
     "output_type": "display_data"
    }
   ],
   "source": [
    "# Regressão Linear\n",
    "\n",
    "predictors = [x for x in treino.columns if x not in [target]+IDcol]\n",
    "alg1= LinearRegression(normalize=True)\n",
    "modelfit(alg1, treino, teste, predictors, target, IDcol, 'LinearRegression.csv')\n",
    "coef1 = pd.Series(alg1.coef_, predictors).sort_values()\n",
    "coef1.plot(kind='bar', title='Model Coefficients')\n",
    "\n",
    "\n"
   ]
  },
  {
   "cell_type": "code",
   "execution_count": 433,
   "metadata": {},
   "outputs": [
    {
     "name": "stdout",
     "output_type": "stream",
     "text": [
      "\n",
      "Model Report\n",
      "RMSE : 1128\n",
      "CV Score : Mean - 1130 | Std - 44.59 | Min - 1076 | Max - 1217\n"
     ]
    },
    {
     "data": {
      "text/plain": [
       "<AxesSubplot:title={'center':'Model Coefficients'}>"
      ]
     },
     "execution_count": 433,
     "metadata": {},
     "output_type": "execute_result"
    },
    {
     "data": {
      "image/png": "[encoded data removed]",
      "text/plain": [
       "<Figure size 432x288 with 1 Axes>"
      ]
     },
     "metadata": {
      "needs_background": "light"
     },
     "output_type": "display_data"
    }
   ],
   "source": [
    "#Ridge\n",
    "\n",
    "predictors = [x for x in treino.columns if x not in [target]+IDcol]\n",
    "alg2 = Ridge(alpha=0.05,normalize=True)\n",
    "modelfit(alg2, treino, teste, predictors, target, IDcol, 'Ridge.csv')\n",
    "coef2 = pd.Series(alg2.coef_, predictors).sort_values()\n",
    "coef2.plot(kind='bar', title='Model Coefficients')"
   ]
  },
  {
   "cell_type": "code",
   "execution_count": 434,
   "metadata": {},
   "outputs": [
    {
     "name": "stdout",
     "output_type": "stream",
     "text": [
      "\n",
      "Model Report\n",
      "RMSE : 1059\n",
      "CV Score : Mean - 1090 | Std - 44.26 | Min - 1002 | Max - 1174\n"
     ]
    },
    {
     "data": {
      "text/plain": [
       "<AxesSubplot:title={'center':'Feature Importances'}>"
      ]
     },
     "execution_count": 434,
     "metadata": {},
     "output_type": "execute_result"
    },
    {
     "data": {
      "image/png": "[encoded data removed]",
      "text/plain": [
       "<Figure size 432x288 with 1 Axes>"
      ]
     },
     "metadata": {
      "needs_background": "light"
     },
     "output_type": "display_data"
    }
   ],
   "source": [
    "#Decision Tree - Primeiros parâmetros\n",
    "pd.options.mode.chained_assignment = None  # default='warn'\n",
    "from sklearn.tree import DecisionTreeRegressor\n",
    "predictors = [x for x in treino.columns if x not in [target]+IDcol]\n",
    "alg3 = DecisionTreeRegressor(max_depth=15, min_samples_leaf=100)\n",
    "modelfit(alg3, treino, teste, predictors, target, IDcol, 'DecisionTree.csv')\n",
    "coef3 = pd.Series(alg3.feature_importances_, predictors).sort_values(ascending=False)\n",
    "coef3.plot(kind='bar', title='Feature Importances')"
   ]
  },
  {
   "cell_type": "code",
   "execution_count": 435,
   "metadata": {},
   "outputs": [
    {
     "name": "stdout",
     "output_type": "stream",
     "text": [
      "\n",
      "Model Report\n",
      "RMSE : 1071\n",
      "CV Score : Mean - 1096 | Std - 43.3 | Min - 1027 | Max - 1172\n"
     ]
    },
    {
     "data": {
      "text/plain": [
       "<AxesSubplot:title={'center':'Feature Importances'}>"
      ]
     },
     "execution_count": 435,
     "metadata": {},
     "output_type": "execute_result"
    },
    {
     "data": {
      "image/png": "[encoded data removed]",
      "text/plain": [
       "<Figure size 432x288 with 1 Axes>"
      ]
     },
     "metadata": {
      "needs_background": "light"
     },
     "output_type": "display_data"
    }
   ],
   "source": [
    "# Decision Tree - Parâmetros melhorados\n",
    "\n",
    "predictors = ['Item_MRP','Outlet_Type_0','Outlet_5','Outlet_Years']\n",
    "alg4 = DecisionTreeRegressor(max_depth=8, min_samples_leaf=150)\n",
    "modelfit(alg4, treino, teste, predictors, target, IDcol, 'DecisionTree_1.csv')\n",
    "coef4 = pd.Series(alg4.feature_importances_, predictors).sort_values(ascending=False)\n",
    "coef4.plot(kind='bar', title='Feature Importances')"
   ]
  },
  {
   "cell_type": "code",
   "execution_count": 436,
   "metadata": {},
   "outputs": [
    {
     "name": "stdout",
     "output_type": "stream",
     "text": [
      "\n",
      "Model Report\n",
      "RMSE : 1074\n",
      "CV Score : Mean - 1084 | Std - 43.8 | Min - 1022 | Max - 1162\n"
     ]
    },
    {
     "data": {
      "text/plain": [
       "<AxesSubplot:title={'center':'Feature Importances'}>"
      ]
     },
     "execution_count": 436,
     "metadata": {},
     "output_type": "execute_result"
    },
    {
     "data": {
      "image/png": "[encoded data removed]",
      "text/plain": [
       "<Figure size 432x288 with 1 Axes>"
      ]
     },
     "metadata": {
      "needs_background": "light"
     },
     "output_type": "display_data"
    }
   ],
   "source": [
    "#Random Forest - Primeiros parâmetros\n",
    "\n",
    "from sklearn.ensemble import RandomForestRegressor\n",
    "predictors = [x for x in treino.columns if x not in [target]+IDcol]\n",
    "alg5 = RandomForestRegressor(n_estimators=200,max_depth=5, min_samples_leaf=100,n_jobs=4)\n",
    "modelfit(alg5, treino, teste, predictors, target, IDcol, 'RandomForestRegressor.csv')\n",
    "coef5 = pd.Series(alg5.feature_importances_, predictors).sort_values(ascending=False)\n",
    "coef5.plot(kind='bar', title='Feature Importances')\n",
    "\n"
   ]
  },
  {
   "cell_type": "code",
   "execution_count": 437,
   "metadata": {
    "scrolled": true
   },
   "outputs": [
    {
     "name": "stdout",
     "output_type": "stream",
     "text": [
      "\n",
      "Model Report\n",
      "RMSE : 1068\n",
      "CV Score : Mean - 1083 | Std - 43.17 | Min - 1021 | Max - 1158\n"
     ]
    },
    {
     "data": {
      "text/plain": [
       "<AxesSubplot:title={'center':'Feature Importances'}>"
      ]
     },
     "execution_count": 437,
     "metadata": {},
     "output_type": "execute_result"
    },
    {
     "data": {
      "image/png": "[encoded data removed]",
      "text/plain": [
       "<Figure size 432x288 with 1 Axes>"
      ]
     },
     "metadata": {
      "needs_background": "light"
     },
     "output_type": "display_data"
    }
   ],
   "source": [
    "# Random Forest - Parâmetros melhorados\n",
    "\n",
    "predictors = [x for x in treino.columns if x not in [target]+IDcol]\n",
    "alg6 = RandomForestRegressor(n_estimators=400,max_depth=6, min_samples_leaf=100,n_jobs=4)\n",
    "modelfit(alg6, treino, teste, predictors, target, IDcol, 'RandomForestRegressor_1.csv')\n",
    "coef6 = pd.Series(alg6.feature_importances_, predictors).sort_values(ascending=False)\n",
    "coef6.plot(kind='bar', title='Feature Importances')"
   ]
  },
  {
   "cell_type": "markdown",
   "metadata": {},
   "source": [
    "# Resumo dos resultados\n",
    "\n",
    "Regressão Linear\n",
    "- RMSE : 1127\n",
    "- CV Score : Mean - 1129 | Std - 43.19 | Min - 1075 | Max - 1210\n",
    "    \n",
    "Ridge\n",
    "- RMSE : 1128\n",
    "- CV Score : Mean - 1130 | Std - 44.59 | Min - 1076 | Max - 1217\n",
    "    \n",
    "Decision Tree \n",
    "- RMSE : 1059\n",
    "- CV Score : Mean - 1090 | Std - 44.26 | Min - 1002 | Max - 1174\n",
    "    \n",
    "Decision Tree 2\n",
    "- RMSE : 1071\n",
    "- CV Score : Mean - 1096 | Std - 43.3 | Min - 1027 | Max - 1172\n",
    "    \n",
    "Random Forest\n",
    "- RMSE : 1073\n",
    "- CV Score : Mean - 1084 | Std - 43.73 | Min - 1021 | Max - 1161\n",
    "\n",
    "Random Forest 2\n",
    "- RMSE : 1069\n",
    "- CV Score : Mean - 1083 | Std - 43.41 | Min - 1020 | Max - 1158"
   ]
  }
 ],
 "metadata": {
  "kernelspec": {
   "display_name": "Python 3",
   "language": "python",
   "name": "python3"
  },
  "language_info": {
   "codemirror_mode": {
    "name": "ipython",
    "version": 3
   },
   "file_extension": ".py",
   "mimetype": "text/x-python",
   "name": "python",
   "nbconvert_exporter": "python",
   "pygments_lexer": "ipython3",
   "version": "3.8.5"
  }
 },
 "nbformat": 4,
 "nbformat_minor": 4
}
